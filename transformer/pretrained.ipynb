{
 "cells": [
  {
   "cell_type": "code",
   "execution_count": null,
   "id": "8bf62090",
   "metadata": {},
   "outputs": [],
   "source": [
    "from flask import Flask, request, jsonify\n",
    "import torch\n",
    "from transformers import AutoTokenizer, AutoModelForSeq2SeqLM\n",
    "from flask_cors import CORS\n",
    "from pyngrok import ngrok\n",
    "\n",
    "model_name = \"facebook/nllb-200-distilled-600M\"\n",
    "tokenizer = AutoTokenizer.from_pretrained(model_name)\n",
    "model = AutoModelForSeq2SeqLM.from_pretrained(model_name)\n",
    "\n",
    "tokenizer.src_lang = \"eng_Latn\" \n",
    "target_lang = \"tel_Telu\"\n",
    "\n",
    "\n",
    "def translate(text):\n",
    "    inputs = tokenizer(text, return_tensors=\"pt\", truncation=True, max_length=64)\n",
    "\n",
    "    outputs = model.generate(\n",
    "        **inputs,\n",
    "        forced_bos_token_id=tokenizer.convert_tokens_to_ids(target_lang), \n",
    "        max_length=64\n",
    "    )\n",
    "\n",
    "    return tokenizer.decode(outputs[0], skip_special_tokens=True)"
   ]
  },
  {
   "cell_type": "code",
   "execution_count": null,
   "id": "06ad780a",
   "metadata": {},
   "outputs": [],
   "source": [
    "app = Flask(_name_)\n",
    "CORS(app)\n",
    "\n",
    "@app.route('/process', methods=['POST'])\n",
    "def process_request():\n",
    "    data = request.get_json()\n",
    "    sentence = data.get(\"sentence\", \"\")\n",
    "    \n",
    "    if not sentence:\n",
    "        return jsonify({\"error\": \"No sentence provided\"}), 400\n",
    "    \n",
    "    result = translate(sentence)\n",
    "    return jsonify({\"processed_sentence\": result})\n",
    "\n",
    "public_url = ngrok.connect(5003)\n",
    "print(f\"🔗 Ngrok tunnel running at: {public_url}\")\n",
    "\n",
    "app.run(port=5003, debug=False, use_reloader=False)"
   ]
  }
 ],
 "metadata": {
  "language_info": {
   "name": "python"
  }
 },
 "nbformat": 4,
 "nbformat_minor": 5
}
